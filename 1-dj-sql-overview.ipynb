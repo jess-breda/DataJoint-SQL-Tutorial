{
 "cells": [
  {
   "attachments": {},
   "cell_type": "markdown",
   "id": "4fdb8eca-980c-4de0-80dc-1e9e59b3d5c7",
   "metadata": {},
   "source": [
    "## 1- DataJoint & Bdata Overview\n",
    "\n",
    "Overview tutorial for interacting with Brody Lab DataJoint SQL-based database. This notebook assumes you have followed the installation steps [here](https://github.com/Brody-Lab/bl_pipeline_python).\n",
    "\n",
    "Written by Jess Breda February 2023"
   ]
  },
  {
   "cell_type": "markdown",
   "id": "c7da1462-27f5-4f79-9cff-e681eeee41c2",
   "metadata": {},
   "source": [
    "### 1. Libraries"
   ]
  },
  {
   "cell_type": "code",
   "execution_count": 43,
   "id": "0245f9e4-6894-4465-b16b-4e8fef90c4d0",
   "metadata": {},
   "outputs": [],
   "source": [
    "import datajoint as dj\n",
    "dj.blob.use_32bit_dims = False # not using blob columns\n",
    "import numpy as np\n",
    "import pandas as pd\n",
    "import matplotlib.pyplot as plt\n",
    "import seaborn as sns\n",
    "from fetch_water import *"
   ]
  },
  {
   "cell_type": "code",
   "execution_count": 6,
   "id": "0e284026-1f22-407c-8c17-621607d85e28",
   "metadata": {},
   "outputs": [
    {
     "name": "stderr",
     "output_type": "stream",
     "text": [
      "[2023-02-19 19:01:13,127][INFO]: Connecting jbreda@bdata00.pni.princeton.edu:3306\n",
      "[2023-02-19 19:01:13,669][INFO]: Connected jbreda@bdata00.pni.princeton.edu:3306\n"
     ]
    },
    {
     "data": {
      "text/plain": [
       "DataJoint connection (connected) jbreda@bdata00.pni.princeton.edu:3306"
      ]
     },
     "execution_count": 6,
     "metadata": {},
     "output_type": "execute_result"
    }
   ],
   "source": [
    "dj.conn() #check connection is working"
   ]
  },
  {
   "cell_type": "markdown",
   "id": "55ecb3aa-f939-4893-b4f1-cdaba8a193f6",
   "metadata": {},
   "source": [
    "### 2. What is on DataJoint?"
   ]
  },
  {
   "cell_type": "markdown",
   "id": "5568f859-cdc1-4d3a-9f19-55048cef0e5c",
   "metadata": {},
   "source": [
    "`Schemas` are groups of tables that are similar and the highest structure level.\n",
    "\n",
    "**Schemas > Tables > Columns > Entries**"
   ]
  },
  {
   "cell_type": "code",
   "execution_count": 7,
   "id": "65254614-92d5-4aad-af6b-9bacf1a1186f",
   "metadata": {},
   "outputs": [
    {
     "data": {
      "text/plain": [
       "['bdata', 'ratinfo']"
      ]
     },
     "execution_count": 7,
     "metadata": {},
     "output_type": "execute_result"
    }
   ],
   "source": [
    "dj.list_schemas()"
   ]
  },
  {
   "attachments": {},
   "cell_type": "markdown",
   "id": "98f65bda-72ee-4a14-a2bb-f16041fcea08",
   "metadata": {},
   "source": [
    "To read from the tables you will create a `virtual module`. This is the *whole* basis of DataJoint- connecting you from your interpreter (python, matlab etc) to your SQL database"
   ]
  },
  {
   "cell_type": "code",
   "execution_count": 8,
   "id": "d6100bea-8e2c-4b11-ab96-beca450c7602",
   "metadata": {},
   "outputs": [],
   "source": [
    "# __name__ =                    (__name__, schema name)\n",
    "bdata = dj.create_virtual_module(\"bdata\", \"bdata\")\n",
    "ratinfo = dj.create_virtual_module(\"intfo\", \"ratinfo\")"
   ]
  },
  {
   "attachments": {},
   "cell_type": "markdown",
   "id": "764ce526-0186-4268-b3fe-7d0ac1902491",
   "metadata": {},
   "source": [
    "There are nice visual ways to demonstrate relationships of tables in a `schema`, but sadly this code doesn't seem compatible with our dbs currently. Instead, let's list all the tables in each `schema`. Many will seem familiar from the old Zut webpage. "
   ]
  },
  {
   "cell_type": "code",
   "execution_count": 9,
   "id": "73875c95-00bc-427f-8fc2-69e32fbebb76",
   "metadata": {},
   "outputs": [
    {
     "name": "stdout",
     "output_type": "stream",
     "text": [
      "Tables under bdata schema: \n",
      " ['BehaviorEvent', 'Biasview', 'CalibrationInfoTbl', 'Carlosexperiment', 'Carlosview', 'Cells', 'Channels', 'Events', 'Gcs', 'GcsOld', 'Jeffsview', 'Labmember', 'NewCalibrationInfoTbl', 'OrphanedSessions', 'PaSess', 'ParsedEvents', 'Paview', 'PhysSess', 'ProtocolInfo', 'RawTracking', 'RigErrorLog', 'SessList', 'SessStarted', 'Sessions', 'Sessview', 'Spktimes', 'TechnicianNotesTbl', 'Tetrodes', 'Tracking']\n"
     ]
    }
   ],
   "source": [
    "bdata_table_names = dir(bdata)\n",
    "\n",
    "print(f\"Tables under bdata schema: \\n {bdata_table_names[:-6]}\") # removing the __vars__\n"
   ]
  },
  {
   "cell_type": "code",
   "execution_count": 10,
   "id": "335469b9-c65b-42b7-a234-9fc0c6223a46",
   "metadata": {},
   "outputs": [
    {
     "name": "stdout",
     "output_type": "stream",
     "text": [
      "Tables under ratinfo schema: \n",
      " ['CerebroSessions', 'Contacts', 'Eibs', 'Experiment', 'Infusions', 'Mass', 'PaOpto', 'Phys', 'RatHistory', 'Rats', 'RigMaintenance', 'Rigflush', 'Rigfood', 'Riginfo', 'Rigs', 'Rigtrials', 'Rigvideo', 'Rigwater', 'SchedRescue', 'Schedule', 'Stim', 'Surgery', 'TechSchedule', 'Technotes', 'TrainingRoom', 'TurnDownLog', 'VideoLog', 'Videoinfo', 'Water']\n"
     ]
    }
   ],
   "source": [
    "ratinfo_table_names = dir(ratinfo)\n",
    "print(f\"Tables under ratinfo schema: \\n {ratinfo_table_names[:-6]}\")"
   ]
  },
  {
   "cell_type": "markdown",
   "id": "4b88e955-743a-4828-8f37-33043d0047fc",
   "metadata": {},
   "source": [
    "### 3. Descriptive information for a table"
   ]
  },
  {
   "cell_type": "markdown",
   "id": "014139cc-feaf-4583-9069-0a17bfef701b",
   "metadata": {},
   "source": [
    "Let's look at the descriptions (i.e. columns) for the [sessions table](https://zut-bdata00.pni.princeton.edu/sessions.php)."
   ]
  },
  {
   "cell_type": "code",
   "execution_count": 12,
   "id": "88940ee9-d29a-46fa-9247-cc912d6ad4b6",
   "metadata": {},
   "outputs": [
    {
     "name": "stdout",
     "output_type": "stream",
     "text": [
      "# data from all rat sessions\n",
      "sessid               : int                          \n",
      "---\n",
      "ratname=\"\"           : varchar(30)                  \n",
      "hostname=\"\"          : varchar(30)                  \n",
      "experimenter=\"\"      : varchar(30)                  \n",
      "starttime=\"00:00:00\" : time                         \n",
      "endtime=\"00:00:00\"   : time                         \n",
      "sessiondate=\"0000-00-00\" : date                         \n",
      "n_done_trials=0      : int                          \n",
      "comments=null        : varchar(1000)                \n",
      "settings_file=\"\"     : varchar(200)                 \n",
      "settings_path=\"\"     : varchar(200)                 \n",
      "data_file=\"\"         : varchar(200)                 \n",
      "data_path=\"\"         : varchar(200)                 \n",
      "video_file=\"\"        : varchar(200)                 \n",
      "video_path=\"\"        : varchar(200)                 \n",
      "protocol=\"\"          : varchar(30)                  \n",
      "total_correct=null   : float(2,2)                   \n",
      "right_correct=null   : float(2,2)                   \n",
      "left_correct=null    : float(2,2)                   \n",
      "percent_violations=null : float(2,2)                   \n",
      "brokenbits=null      : int                          \n",
      "protocol_data=null   : mediumblob                   \n",
      "left_pokes=null      : int unsigned                 \n",
      "center_pokes=null    : int unsigned                 \n",
      "right_pokes=null     : int unsigned                 \n",
      "technotes=null       : varchar(200)                 \n",
      "IP_addr=null         : varchar(15)                  \n",
      "crashed=null         : tinyint unsigned             \n",
      "foodpuck=null        : tinyint unsigned             \n",
      "INDEX (ratname)\n",
      "INDEX (experimenter)\n",
      "INDEX (sessiondate)\n",
      "INDEX (protocol)\n",
      "INDEX (data_file)\n",
      "INDEX (hostname)\n",
      "\n"
     ]
    }
   ],
   "source": [
    "print(bdata.Sessions.describe())"
   ]
  },
  {
   "cell_type": "markdown",
   "id": "782dd36f-1f0a-461d-9465-871587682aaa",
   "metadata": {},
   "source": [
    "Let's see what the data actually looks like in the table by making a query to a specific table."
   ]
  },
  {
   "cell_type": "code",
   "execution_count": 9,
   "id": "13665e9f-92aa-4e2b-bb1a-3b27bd1f0972",
   "metadata": {},
   "outputs": [
    {
     "data": {
      "text/html": [
       "\n",
       "    \n",
       "    <style type=\"text/css\">\n",
       "        .Table{\n",
       "            border-collapse:collapse;\n",
       "        }\n",
       "        .Table th{\n",
       "            background: #A0A0A0; color: #ffffff; padding:4px; border:#f0e0e0 1px solid;\n",
       "            font-weight: normal; font-family: monospace; font-size: 100%;\n",
       "        }\n",
       "        .Table td{\n",
       "            padding:4px; border:#f0e0e0 1px solid; font-size:100%;\n",
       "        }\n",
       "        .Table tr:nth-child(odd){\n",
       "            background: #ffffff;\n",
       "        }\n",
       "        .Table tr:nth-child(even){\n",
       "            background: #f3f1ff;\n",
       "        }\n",
       "        /* Tooltip container */\n",
       "        .djtooltip {\n",
       "        }\n",
       "        /* Tooltip text */\n",
       "        .djtooltip .djtooltiptext {\n",
       "            visibility: hidden;\n",
       "            width: 120px;\n",
       "            background-color: black;\n",
       "            color: #fff;\n",
       "            text-align: center;\n",
       "            padding: 5px 0;\n",
       "            border-radius: 6px;\n",
       "            /* Position the tooltip text - see examples below! */\n",
       "            position: absolute;\n",
       "            z-index: 1;\n",
       "        }\n",
       "        #primary {\n",
       "            font-weight: bold;\n",
       "            color: black;\n",
       "        }\n",
       "        #nonprimary {\n",
       "            font-weight: normal;\n",
       "            color: white;\n",
       "        }\n",
       "\n",
       "        /* Show the tooltip text when you mouse over the tooltip container */\n",
       "        .djtooltip:hover .djtooltiptext {\n",
       "            visibility: visible;\n",
       "        }\n",
       "    </style>\n",
       "    \n",
       "    <b>data from all rat sessions</b>\n",
       "        <div style=\"max-height:1000px;max-width:1500px;overflow:auto;\">\n",
       "        <table border=\"1\" class=\"Table\">\n",
       "            <thead> <tr style=\"text-align: right;\"> <th> <div class=\"djtooltip\">\n",
       "                            <p id=\"primary\">sessid</p>\n",
       "                            <span class=\"djtooltiptext\"></span>\n",
       "                        </div></th><th><div class=\"djtooltip\">\n",
       "                            <p id=\"nonprimary\">ratname</p>\n",
       "                            <span class=\"djtooltiptext\"></span>\n",
       "                        </div></th><th><div class=\"djtooltip\">\n",
       "                            <p id=\"nonprimary\">hostname</p>\n",
       "                            <span class=\"djtooltiptext\"></span>\n",
       "                        </div></th><th><div class=\"djtooltip\">\n",
       "                            <p id=\"nonprimary\">experimenter</p>\n",
       "                            <span class=\"djtooltiptext\"></span>\n",
       "                        </div></th><th><div class=\"djtooltip\">\n",
       "                            <p id=\"nonprimary\">starttime</p>\n",
       "                            <span class=\"djtooltiptext\"></span>\n",
       "                        </div></th><th><div class=\"djtooltip\">\n",
       "                            <p id=\"nonprimary\">endtime</p>\n",
       "                            <span class=\"djtooltiptext\"></span>\n",
       "                        </div></th><th><div class=\"djtooltip\">\n",
       "                            <p id=\"nonprimary\">sessiondate</p>\n",
       "                            <span class=\"djtooltiptext\"></span>\n",
       "                        </div></th><th><div class=\"djtooltip\">\n",
       "                            <p id=\"nonprimary\">n_done_trials</p>\n",
       "                            <span class=\"djtooltiptext\"></span>\n",
       "                        </div></th><th><div class=\"djtooltip\">\n",
       "                            <p id=\"nonprimary\">comments</p>\n",
       "                            <span class=\"djtooltiptext\"></span>\n",
       "                        </div></th><th><div class=\"djtooltip\">\n",
       "                            <p id=\"nonprimary\">settings_file</p>\n",
       "                            <span class=\"djtooltiptext\"></span>\n",
       "                        </div></th><th><div class=\"djtooltip\">\n",
       "                            <p id=\"nonprimary\">settings_path</p>\n",
       "                            <span class=\"djtooltiptext\"></span>\n",
       "                        </div></th><th><div class=\"djtooltip\">\n",
       "                            <p id=\"nonprimary\">data_file</p>\n",
       "                            <span class=\"djtooltiptext\"></span>\n",
       "                        </div></th><th><div class=\"djtooltip\">\n",
       "                            <p id=\"nonprimary\">data_path</p>\n",
       "                            <span class=\"djtooltiptext\"></span>\n",
       "                        </div></th><th><div class=\"djtooltip\">\n",
       "                            <p id=\"nonprimary\">video_file</p>\n",
       "                            <span class=\"djtooltiptext\"></span>\n",
       "                        </div></th><th><div class=\"djtooltip\">\n",
       "                            <p id=\"nonprimary\">video_path</p>\n",
       "                            <span class=\"djtooltiptext\"></span>\n",
       "                        </div></th><th><div class=\"djtooltip\">\n",
       "                            <p id=\"nonprimary\">protocol</p>\n",
       "                            <span class=\"djtooltiptext\"></span>\n",
       "                        </div></th><th><div class=\"djtooltip\">\n",
       "                            <p id=\"nonprimary\">total_correct</p>\n",
       "                            <span class=\"djtooltiptext\"></span>\n",
       "                        </div></th><th><div class=\"djtooltip\">\n",
       "                            <p id=\"nonprimary\">right_correct</p>\n",
       "                            <span class=\"djtooltiptext\"></span>\n",
       "                        </div></th><th><div class=\"djtooltip\">\n",
       "                            <p id=\"nonprimary\">left_correct</p>\n",
       "                            <span class=\"djtooltiptext\"></span>\n",
       "                        </div></th><th><div class=\"djtooltip\">\n",
       "                            <p id=\"nonprimary\">percent_violations</p>\n",
       "                            <span class=\"djtooltiptext\"></span>\n",
       "                        </div></th><th><div class=\"djtooltip\">\n",
       "                            <p id=\"nonprimary\">brokenbits</p>\n",
       "                            <span class=\"djtooltiptext\"></span>\n",
       "                        </div></th><th><div class=\"djtooltip\">\n",
       "                            <p id=\"nonprimary\">protocol_data</p>\n",
       "                            <span class=\"djtooltiptext\"></span>\n",
       "                        </div></th><th><div class=\"djtooltip\">\n",
       "                            <p id=\"nonprimary\">left_pokes</p>\n",
       "                            <span class=\"djtooltiptext\"></span>\n",
       "                        </div></th><th><div class=\"djtooltip\">\n",
       "                            <p id=\"nonprimary\">center_pokes</p>\n",
       "                            <span class=\"djtooltiptext\"></span>\n",
       "                        </div></th><th><div class=\"djtooltip\">\n",
       "                            <p id=\"nonprimary\">right_pokes</p>\n",
       "                            <span class=\"djtooltiptext\"></span>\n",
       "                        </div></th><th><div class=\"djtooltip\">\n",
       "                            <p id=\"nonprimary\">technotes</p>\n",
       "                            <span class=\"djtooltiptext\"></span>\n",
       "                        </div></th><th><div class=\"djtooltip\">\n",
       "                            <p id=\"nonprimary\">IP_addr</p>\n",
       "                            <span class=\"djtooltiptext\"></span>\n",
       "                        </div></th><th><div class=\"djtooltip\">\n",
       "                            <p id=\"nonprimary\">crashed</p>\n",
       "                            <span class=\"djtooltiptext\"></span>\n",
       "                        </div></th><th><div class=\"djtooltip\">\n",
       "                            <p id=\"nonprimary\">foodpuck</p>\n",
       "                            <span class=\"djtooltiptext\"></span>\n",
       "                        </div> </th> </tr> </thead>\n",
       "            <tbody> <tr> <td>0</td>\n",
       "<td>J064</td>\n",
       "<td>Rig25</td>\n",
       "<td>Jeff</td>\n",
       "<td>13:07:47</td>\n",
       "<td>15:11:25</td>\n",
       "<td>2010-09-20</td>\n",
       "<td>243</td>\n",
       "<td> </td>\n",
       "<td></td>\n",
       "<td></td>\n",
       "<td>data_@ProAnti2_Jeff_J064_100920a</td>\n",
       "<td>\\ratter\\solodata\\Data\\Jeff\\J064\\</td>\n",
       "<td></td>\n",
       "<td></td>\n",
       "<td>ProAnti2</td>\n",
       "<td>0.74</td>\n",
       "<td>0.75</td>\n",
       "<td>0.74</td>\n",
       "<td>0.1</td>\n",
       "<td>0</td>\n",
       "<td>=BLOB=</td>\n",
       "<td>3978</td>\n",
       "<td>720</td>\n",
       "<td>6490</td>\n",
       "<td> </td>\n",
       "<td>0.0.0.0</td>\n",
       "<td>None</td>\n",
       "<td>0</td></tr><tr><td>3</td>\n",
       "<td>J006</td>\n",
       "<td>mol-cce788</td>\n",
       "<td>Jeff</td>\n",
       "<td>19:50:01</td>\n",
       "<td>19:54:23</td>\n",
       "<td>2007-12-29</td>\n",
       "<td>23</td>\n",
       "<td>None</td>\n",
       "<td></td>\n",
       "<td></td>\n",
       "<td></td>\n",
       "<td></td>\n",
       "<td></td>\n",
       "<td></td>\n",
       "<td>ProAnti2</td>\n",
       "<td>0.5</td>\n",
       "<td>0.55</td>\n",
       "<td>0.4</td>\n",
       "<td>0.3</td>\n",
       "<td>0</td>\n",
       "<td>=BLOB=</td>\n",
       "<td>None</td>\n",
       "<td>None</td>\n",
       "<td>None</td>\n",
       "<td>None</td>\n",
       "<td>None</td>\n",
       "<td>None</td>\n",
       "<td>0</td></tr><tr><td>4</td>\n",
       "<td>C018</td>\n",
       "<td>brodyrigxp14</td>\n",
       "<td>Carlos</td>\n",
       "<td>8:41:48</td>\n",
       "<td>10:14:54</td>\n",
       "<td>2007-12-30</td>\n",
       "<td>205</td>\n",
       "<td>None</td>\n",
       "<td></td>\n",
       "<td></td>\n",
       "<td></td>\n",
       "<td></td>\n",
       "<td></td>\n",
       "<td></td>\n",
       "<td>ProAnti2</td>\n",
       "<td>0.61</td>\n",
       "<td>0.58</td>\n",
       "<td>0.66</td>\n",
       "<td>0.0</td>\n",
       "<td>0</td>\n",
       "<td>=BLOB=</td>\n",
       "<td>None</td>\n",
       "<td>None</td>\n",
       "<td>None</td>\n",
       "<td>None</td>\n",
       "<td>None</td>\n",
       "<td>None</td>\n",
       "<td>0</td></tr><tr><td>5</td>\n",
       "<td>C017</td>\n",
       "<td>brodyrigxp10</td>\n",
       "<td>Carlos</td>\n",
       "<td>9:00:57</td>\n",
       "<td>10:33:15</td>\n",
       "<td>2007-12-30</td>\n",
       "<td>289</td>\n",
       "<td>None</td>\n",
       "<td></td>\n",
       "<td></td>\n",
       "<td></td>\n",
       "<td></td>\n",
       "<td></td>\n",
       "<td></td>\n",
       "<td>ProAnti2</td>\n",
       "<td>0.56</td>\n",
       "<td>0.53</td>\n",
       "<td>0.59</td>\n",
       "<td>0.0</td>\n",
       "<td>0</td>\n",
       "<td>=BLOB=</td>\n",
       "<td>None</td>\n",
       "<td>None</td>\n",
       "<td>None</td>\n",
       "<td>None</td>\n",
       "<td>None</td>\n",
       "<td>None</td>\n",
       "<td>0</td></tr><tr><td>6</td>\n",
       "<td>J005</td>\n",
       "<td>brodyrigxp11</td>\n",
       "<td>Jeff</td>\n",
       "<td>8:59:08</td>\n",
       "<td>10:33:22</td>\n",
       "<td>2007-12-30</td>\n",
       "<td>195</td>\n",
       "<td>None</td>\n",
       "<td></td>\n",
       "<td></td>\n",
       "<td></td>\n",
       "<td></td>\n",
       "<td></td>\n",
       "<td></td>\n",
       "<td>ProAnti2</td>\n",
       "<td>0.67</td>\n",
       "<td>0.82</td>\n",
       "<td>0.59</td>\n",
       "<td>0.0</td>\n",
       "<td>0</td>\n",
       "<td>=BLOB=</td>\n",
       "<td>None</td>\n",
       "<td>None</td>\n",
       "<td>None</td>\n",
       "<td>None</td>\n",
       "<td>None</td>\n",
       "<td>None</td>\n",
       "<td>0</td></tr><tr><td>7</td>\n",
       "<td>Elk062</td>\n",
       "<td>brodyrigxp04</td>\n",
       "<td>Jeff</td>\n",
       "<td>9:06:32</td>\n",
       "<td>10:40:22</td>\n",
       "<td>2007-12-30</td>\n",
       "<td>142</td>\n",
       "<td>None</td>\n",
       "<td></td>\n",
       "<td></td>\n",
       "<td></td>\n",
       "<td></td>\n",
       "<td></td>\n",
       "<td></td>\n",
       "<td>ProAnti2</td>\n",
       "<td>0.54</td>\n",
       "<td>0.53</td>\n",
       "<td>0.55</td>\n",
       "<td>0.01</td>\n",
       "<td>0</td>\n",
       "<td>=BLOB=</td>\n",
       "<td>None</td>\n",
       "<td>None</td>\n",
       "<td>None</td>\n",
       "<td>None</td>\n",
       "<td>None</td>\n",
       "<td>None</td>\n",
       "<td>0</td></tr><tr><td>8</td>\n",
       "<td>J002</td>\n",
       "<td>brodyrigxp08</td>\n",
       "<td>Jeff</td>\n",
       "<td>8:59:09</td>\n",
       "<td>10:34:38</td>\n",
       "<td>2007-12-30</td>\n",
       "<td>180</td>\n",
       "<td>None</td>\n",
       "<td></td>\n",
       "<td></td>\n",
       "<td></td>\n",
       "<td></td>\n",
       "<td></td>\n",
       "<td></td>\n",
       "<td>ProAnti2</td>\n",
       "<td>0.54</td>\n",
       "<td>0.52</td>\n",
       "<td>0.58</td>\n",
       "<td>0.0</td>\n",
       "<td>0</td>\n",
       "<td>=BLOB=</td>\n",
       "<td>None</td>\n",
       "<td>None</td>\n",
       "<td>None</td>\n",
       "<td>None</td>\n",
       "<td>None</td>\n",
       "<td>None</td>\n",
       "<td>0</td></tr><tr><td>9</td>\n",
       "<td>J001</td>\n",
       "<td>brodyrigxp09</td>\n",
       "<td>Jeff</td>\n",
       "<td>9:03:37</td>\n",
       "<td>10:39:47</td>\n",
       "<td>2007-12-30</td>\n",
       "<td>228</td>\n",
       "<td>None</td>\n",
       "<td></td>\n",
       "<td></td>\n",
       "<td></td>\n",
       "<td></td>\n",
       "<td></td>\n",
       "<td></td>\n",
       "<td>ProAnti2</td>\n",
       "<td>0.71</td>\n",
       "<td>0.68</td>\n",
       "<td>0.75</td>\n",
       "<td>0.0</td>\n",
       "<td>0</td>\n",
       "<td>=BLOB=</td>\n",
       "<td>None</td>\n",
       "<td>None</td>\n",
       "<td>None</td>\n",
       "<td>None</td>\n",
       "<td>None</td>\n",
       "<td>None</td>\n",
       "<td>0</td></tr><tr><td>10</td>\n",
       "<td>J007</td>\n",
       "<td>brodyrigxp15</td>\n",
       "<td>Jeff</td>\n",
       "<td>9:00:08</td>\n",
       "<td>10:37:12</td>\n",
       "<td>2007-12-30</td>\n",
       "<td>210</td>\n",
       "<td>None</td>\n",
       "<td></td>\n",
       "<td></td>\n",
       "<td></td>\n",
       "<td></td>\n",
       "<td></td>\n",
       "<td></td>\n",
       "<td>ProAnti2</td>\n",
       "<td>0.69</td>\n",
       "<td>0.67</td>\n",
       "<td>0.71</td>\n",
       "<td>0.0</td>\n",
       "<td>0</td>\n",
       "<td>=BLOB=</td>\n",
       "<td>None</td>\n",
       "<td>None</td>\n",
       "<td>None</td>\n",
       "<td>None</td>\n",
       "<td>None</td>\n",
       "<td>None</td>\n",
       "<td>0</td></tr><tr><td>11</td>\n",
       "<td>J008</td>\n",
       "<td>brodyrigxp13</td>\n",
       "<td>Jeff</td>\n",
       "<td>8:59:25</td>\n",
       "<td>10:36:47</td>\n",
       "<td>2007-12-30</td>\n",
       "<td>177</td>\n",
       "<td>None</td>\n",
       "<td></td>\n",
       "<td></td>\n",
       "<td></td>\n",
       "<td></td>\n",
       "<td></td>\n",
       "<td></td>\n",
       "<td>ProAnti2</td>\n",
       "<td>0.75</td>\n",
       "<td>0.75</td>\n",
       "<td>0.74</td>\n",
       "<td>0.0</td>\n",
       "<td>0</td>\n",
       "<td>=BLOB=</td>\n",
       "<td>None</td>\n",
       "<td>None</td>\n",
       "<td>None</td>\n",
       "<td>None</td>\n",
       "<td>None</td>\n",
       "<td>None</td>\n",
       "<td>0</td></tr><tr><td>12</td>\n",
       "<td>Ibix-am</td>\n",
       "<td>brodyrigxp06</td>\n",
       "<td>Jeff</td>\n",
       "<td>10:50:53</td>\n",
       "<td>12:26:40</td>\n",
       "<td>2007-12-30</td>\n",
       "<td>138</td>\n",
       "<td>None</td>\n",
       "<td></td>\n",
       "<td></td>\n",
       "<td></td>\n",
       "<td></td>\n",
       "<td></td>\n",
       "<td></td>\n",
       "<td>ProAnti2</td>\n",
       "<td>0.82</td>\n",
       "<td>0.76</td>\n",
       "<td>0.89</td>\n",
       "<td>0.37</td>\n",
       "<td>0</td>\n",
       "<td>=BLOB=</td>\n",
       "<td>None</td>\n",
       "<td>None</td>\n",
       "<td>None</td>\n",
       "<td>None</td>\n",
       "<td>None</td>\n",
       "<td>None</td>\n",
       "<td>0</td></tr><tr><td>13</td>\n",
       "<td>C016</td>\n",
       "<td>brodyrigxp13</td>\n",
       "<td>Carlos</td>\n",
       "<td>10:51:39</td>\n",
       "<td>12:28:13</td>\n",
       "<td>2007-12-30</td>\n",
       "<td>250</td>\n",
       "<td>None</td>\n",
       "<td></td>\n",
       "<td></td>\n",
       "<td></td>\n",
       "<td></td>\n",
       "<td></td>\n",
       "<td></td>\n",
       "<td>ProAnti2</td>\n",
       "<td>0.66</td>\n",
       "<td>0.63</td>\n",
       "<td>0.71</td>\n",
       "<td>0.0</td>\n",
       "<td>0</td>\n",
       "<td>=BLOB=</td>\n",
       "<td>None</td>\n",
       "<td>None</td>\n",
       "<td>None</td>\n",
       "<td>None</td>\n",
       "<td>None</td>\n",
       "<td>None</td>\n",
       "<td>0</td> </tr> </tbody>\n",
       "        </table>\n",
       "        <p>...</p>\n",
       "        <p>Total: 838603</p></div>\n",
       "        "
      ],
      "text/plain": [
       "*sessid    ratname     hostname       experimenter   starttime     endtime      sessiondate    n_done_trials  comments     settings_file  settings_path  data_file      data_path      video_file     video_path     protocol     total_correct  right_correct  left_correct   percent_violat brokenbits     protocol_d left_pokes     center_pokes   right_pokes    technotes     IP_addr     crashed     foodpuck    \n",
       "+--------+ +---------+ +------------+ +------------+ +-----------+ +----------+ +------------+ +------------+ +----------+ +------------+ +------------+ +------------+ +------------+ +------------+ +------------+ +----------+ +------------+ +------------+ +------------+ +------------+ +------------+ +--------+ +------------+ +------------+ +------------+ +-----------+ +---------+ +---------+ +----------+\n",
       "0          J064        Rig25          Jeff           13:07:47      15:11:25     2010-09-20     243                                                       data_@ProAnti2 \\ratter\\soloda                               ProAnti2     0.74           0.75           0.74           0.1            0              =BLOB=     3978           720            6490                         0.0.0.0     None        0           \n",
       "3          J006        mol-cce788     Jeff           19:50:01      19:54:23     2007-12-29     23             None                                                                                                   ProAnti2     0.5            0.55           0.4            0.3            0              =BLOB=     None           None           None           None          None        None        0           \n",
       "4          C018        brodyrigxp14   Carlos         8:41:48       10:14:54     2007-12-30     205            None                                                                                                   ProAnti2     0.61           0.58           0.66           0.0            0              =BLOB=     None           None           None           None          None        None        0           \n",
       "5          C017        brodyrigxp10   Carlos         9:00:57       10:33:15     2007-12-30     289            None                                                                                                   ProAnti2     0.56           0.53           0.59           0.0            0              =BLOB=     None           None           None           None          None        None        0           \n",
       "6          J005        brodyrigxp11   Jeff           8:59:08       10:33:22     2007-12-30     195            None                                                                                                   ProAnti2     0.67           0.82           0.59           0.0            0              =BLOB=     None           None           None           None          None        None        0           \n",
       "7          Elk062      brodyrigxp04   Jeff           9:06:32       10:40:22     2007-12-30     142            None                                                                                                   ProAnti2     0.54           0.53           0.55           0.01           0              =BLOB=     None           None           None           None          None        None        0           \n",
       "8          J002        brodyrigxp08   Jeff           8:59:09       10:34:38     2007-12-30     180            None                                                                                                   ProAnti2     0.54           0.52           0.58           0.0            0              =BLOB=     None           None           None           None          None        None        0           \n",
       "9          J001        brodyrigxp09   Jeff           9:03:37       10:39:47     2007-12-30     228            None                                                                                                   ProAnti2     0.71           0.68           0.75           0.0            0              =BLOB=     None           None           None           None          None        None        0           \n",
       "10         J007        brodyrigxp15   Jeff           9:00:08       10:37:12     2007-12-30     210            None                                                                                                   ProAnti2     0.69           0.67           0.71           0.0            0              =BLOB=     None           None           None           None          None        None        0           \n",
       "11         J008        brodyrigxp13   Jeff           8:59:25       10:36:47     2007-12-30     177            None                                                                                                   ProAnti2     0.75           0.75           0.74           0.0            0              =BLOB=     None           None           None           None          None        None        0           \n",
       "12         Ibix-am     brodyrigxp06   Jeff           10:50:53      12:26:40     2007-12-30     138            None                                                                                                   ProAnti2     0.82           0.76           0.89           0.37           0              =BLOB=     None           None           None           None          None        None        0           \n",
       "13         C016        brodyrigxp13   Carlos         10:51:39      12:28:13     2007-12-30     250            None                                                                                                   ProAnti2     0.66           0.63           0.71           0.0            0              =BLOB=     None           None           None           None          None        None        0           \n",
       "   ...\n",
       " (Total: 838603)"
      ]
     },
     "execution_count": 9,
     "metadata": {},
     "output_type": "execute_result"
    }
   ],
   "source": [
    "bdata.Sessions()"
   ]
  },
  {
   "cell_type": "markdown",
   "id": "f54d6803-5960-4dad-ac02-f7dd7f048bb6",
   "metadata": {},
   "source": [
    "Cool, we can access all the Session information. Some tables have even more descriptive information like the [Registry](https://zut-bdata00.pni.princeton.edu/rats.php) (which is stored under `Rats`)"
   ]
  },
  {
   "cell_type": "code",
   "execution_count": 10,
   "id": "908843cb-f075-4ba3-9ef1-cc97552e0f91",
   "metadata": {},
   "outputs": [
    {
     "name": "stdout",
     "output_type": "stream",
     "text": [
      "# Brody Lab Rats\n",
      "internalID           : int unsigned auto_increment  \n",
      "---\n",
      "free=0               : tinyint                      # whether or not the rat is available for use by any other experimenter\n",
      "alert=0              : tinyint                      # whether or not there is an alert for special attention for the rat (e.g. sick, recent surgery, etc.)\n",
      "experimenter=null    : varchar(20)                  # name of the experimenter\n",
      "contact=null         : varchar(40)                  \n",
      "ratname=null         : varchar(4)                   # name of the rat\n",
      "training=0           : tinyint                      \n",
      "comments=null        : varchar(500)                 \n",
      "vendor=\"Taconic\"     : varchar(40)                  # e.g. Taconic, Charles River, etc.\n",
      "waterperday=30       : int                          # 0 for free water, otherwise the number of minutes the rat has access to water each day (may vary over time)\n",
      "recovering=0         : tinyint                      # whether or not the rat is currently in recovery from surgery\n",
      "deliverydate=null    : date                         # date rat arrived at lab\n",
      "massArrival=null     : smallint unsigned            # mass of the rat upon arrival\n",
      "po=null              : varchar(8)                   \n",
      "extant=0             : tinyint                      \n",
      "cagemate=null        : varchar(4)                   \n",
      "forceFreeWater=0     : tinyint unsigned             \n",
      "dateSac=null         : date                         \n",
      "forceDepWater=0      : tinyint unsigned             \n",
      "bringUpAt=null       : tinyint                      # set with which rat should be brought upstairs\n",
      "bringupday=null      : varchar(7)                   \n",
      "ignoredByWatermeister=null : tinyint                      \n",
      "larid=null           : int                          \n",
      "israt=1              : tinyint                      # 1 if rat, 0 if mouse\n",
      "UNIQUE INDEX (ratname)\n",
      "\n"
     ]
    }
   ],
   "source": [
    "print(ratinfo.Rats.describe())"
   ]
  },
  {
   "attachments": {},
   "cell_type": "markdown",
   "id": "632ece71-9ae9-4038-a348-dac69a8991db",
   "metadata": {},
   "source": [
    "We can even `fetch` a single columns. For example all of the experimenters that have had a rat registered to them."
   ]
  },
  {
   "cell_type": "code",
   "execution_count": 11,
   "id": "2105576e-0a85-4676-9783-9ad8cf8ee31b",
   "metadata": {},
   "outputs": [
    {
     "name": "stdout",
     "output_type": "stream",
     "text": [
      "All Animal Experimenters: \n",
      " ['' 'Adrian' 'Ahmed' 'Alex' 'Amanda' 'Amir' 'AnimalFacility' 'Ann' 'Anna'\n",
      " 'Anna ' 'Athena' 'Ben' 'Ben ' 'Bing' 'Carlos' 'Cecilia' 'Christine'\n",
      " 'Chuck' 'Diksha' 'Dmitriy' 'Elyssa' 'Emily' 'Jeff' 'Jess' 'JessB' 'Joe'\n",
      " 'Jordan' 'Jorge' 'Josh' 'Jovanna' 'Jovanna ' 'Jovanna/Min' 'Julie'\n",
      " 'Kevin' 'Marino' 'Max' 'Michael' 'Min' 'Nick' 'Peter' 'Peter Bibawi'\n",
      " 'Rina' 'Sachi' 'SarahJo' 'Sergei' 'Shraddha' 'Shraddha ' 'Thomas' 'Tim'\n",
      " 'Tommy' 'Tyler' 'Verity' 'Wynne' 'abondy' 'christine' 'experimenter'\n",
      " 'jovanna' 'pbibawi' 'velliott']\n"
     ]
    }
   ],
   "source": [
    "experimenters = ratinfo.Rats.fetch('experimenter')\n",
    "print(f\"All Animal Experimenters: \\n {np.unique(experimenters)}\")"
   ]
  },
  {
   "attachments": {},
   "cell_type": "markdown",
   "id": "905876a6-6f92-4a23-968c-1b18b458bc1b",
   "metadata": {},
   "source": [
    "### 4. Querying tables usings keys\n",
    "\n",
    "#### 4.1 Exact Queries\n",
    "What if you don't want the whole sessions table? There are multiple levels at which you can query a table using a `key`, which is a dictionary filter for a given column. Let's get data for a **single session** for one of my animals `R500`. Since we are only fetching 1 thing we will call `fetch1`. You could use just `fetch` but it will add additional dimensions that are hard to get rid of."
   ]
  },
  {
   "cell_type": "code",
   "execution_count": 12,
   "id": "3f13cc22-de4c-4864-bf25-81fa1b403f63",
   "metadata": {},
   "outputs": [
    {
     "data": {
      "text/plain": [
       "dict_keys(['sessid', 'ratname', 'hostname', 'experimenter', 'starttime', 'endtime', 'sessiondate', 'n_done_trials', 'comments', 'settings_file', 'settings_path', 'data_file', 'data_path', 'video_file', 'video_path', 'protocol', 'total_correct', 'right_correct', 'left_correct', 'percent_violations', 'brokenbits', 'protocol_data', 'left_pokes', 'center_pokes', 'right_pokes', 'technotes', 'IP_addr', 'crashed', 'foodpuck'])"
      ]
     },
     "execution_count": 12,
     "metadata": {},
     "output_type": "execute_result"
    }
   ],
   "source": [
    "key = {'sessid' : '906302'}\n",
    "r500_session = (bdata.Sessions & key).fetch1()\n",
    "# returns \n",
    "r500_session.keys()"
   ]
  },
  {
   "attachments": {},
   "cell_type": "markdown",
   "id": "e023989b-70c8-48fe-b5f0-406be8f4b67d",
   "metadata": {},
   "source": [
    "In it's current form this returns a huge array. You can print it if you want but it's ugly. Instead, we can **format** our `fetch` into a `DataFrame` so it's more accessible. This is easiest to see when we fetch **all** the sessions for an animal."
   ]
  },
  {
   "cell_type": "code",
   "execution_count": 13,
   "id": "48122664-5d42-4b74-b468-abac07639af9",
   "metadata": {},
   "outputs": [
    {
     "data": {
      "text/html": [
       "<div>\n",
       "<style scoped>\n",
       "    .dataframe tbody tr th:only-of-type {\n",
       "        vertical-align: middle;\n",
       "    }\n",
       "\n",
       "    .dataframe tbody tr th {\n",
       "        vertical-align: top;\n",
       "    }\n",
       "\n",
       "    .dataframe thead th {\n",
       "        text-align: right;\n",
       "    }\n",
       "</style>\n",
       "<table border=\"1\" class=\"dataframe\">\n",
       "  <thead>\n",
       "    <tr style=\"text-align: right;\">\n",
       "      <th></th>\n",
       "      <th>sessid</th>\n",
       "      <th>ratname</th>\n",
       "      <th>hostname</th>\n",
       "      <th>experimenter</th>\n",
       "      <th>starttime</th>\n",
       "      <th>endtime</th>\n",
       "      <th>sessiondate</th>\n",
       "      <th>n_done_trials</th>\n",
       "      <th>comments</th>\n",
       "      <th>settings_file</th>\n",
       "      <th>...</th>\n",
       "      <th>percent_violations</th>\n",
       "      <th>brokenbits</th>\n",
       "      <th>protocol_data</th>\n",
       "      <th>left_pokes</th>\n",
       "      <th>center_pokes</th>\n",
       "      <th>right_pokes</th>\n",
       "      <th>technotes</th>\n",
       "      <th>IP_addr</th>\n",
       "      <th>crashed</th>\n",
       "      <th>foodpuck</th>\n",
       "    </tr>\n",
       "  </thead>\n",
       "  <tbody>\n",
       "    <tr>\n",
       "      <th>0</th>\n",
       "      <td>879474</td>\n",
       "      <td>R500</td>\n",
       "      <td>Rig404</td>\n",
       "      <td>Jess</td>\n",
       "      <td>0 days 10:49:46</td>\n",
       "      <td>0 days 11:57:01</td>\n",
       "      <td>2022-07-19</td>\n",
       "      <td>28</td>\n",
       "      <td>JB_cpoke_nofix ;                              ...</td>\n",
       "      <td></td>\n",
       "      <td>...</td>\n",
       "      <td>0.0</td>\n",
       "      <td>0</td>\n",
       "      <td>[[[[[0. 0. 1. 1. 0. 1. 0. 1. 0. 0. 0. 1. 0. 0....</td>\n",
       "      <td>520</td>\n",
       "      <td>612</td>\n",
       "      <td>704</td>\n",
       "      <td></td>\n",
       "      <td>128.112.222.46</td>\n",
       "      <td>None</td>\n",
       "      <td>0</td>\n",
       "    </tr>\n",
       "    <tr>\n",
       "      <th>1</th>\n",
       "      <td>879662</td>\n",
       "      <td>R500</td>\n",
       "      <td>Rig404</td>\n",
       "      <td>JessB</td>\n",
       "      <td>0 days 11:38:31</td>\n",
       "      <td>0 days 12:27:40</td>\n",
       "      <td>2022-07-20</td>\n",
       "      <td>53</td>\n",
       "      <td>JB_cpoke_nofix ;                              ...</td>\n",
       "      <td></td>\n",
       "      <td>...</td>\n",
       "      <td>0.0</td>\n",
       "      <td>0</td>\n",
       "      <td>[[[[[1. 1. 1. 1. 1. 1. 1. 1. 1. 1. 1. 1. 1. 1....</td>\n",
       "      <td>158</td>\n",
       "      <td>196</td>\n",
       "      <td>172</td>\n",
       "      <td></td>\n",
       "      <td>128.112.222.46</td>\n",
       "      <td>None</td>\n",
       "      <td>0</td>\n",
       "    </tr>\n",
       "    <tr>\n",
       "      <th>2</th>\n",
       "      <td>879811</td>\n",
       "      <td>R500</td>\n",
       "      <td>Rig404</td>\n",
       "      <td>JessB</td>\n",
       "      <td>0 days 10:26:37</td>\n",
       "      <td>0 days 11:27:59</td>\n",
       "      <td>2022-07-21</td>\n",
       "      <td>10</td>\n",
       "      <td>JB_cpoke_nofix ;                              ...</td>\n",
       "      <td></td>\n",
       "      <td>...</td>\n",
       "      <td>0.0</td>\n",
       "      <td>0</td>\n",
       "      <td>[[[[[1. 1. 0. 0. 1. 1. 1. 1. 1. 0.]], [[0. 0. ...</td>\n",
       "      <td>124</td>\n",
       "      <td>308</td>\n",
       "      <td>112</td>\n",
       "      <td></td>\n",
       "      <td>128.112.222.46</td>\n",
       "      <td>None</td>\n",
       "      <td>0</td>\n",
       "    </tr>\n",
       "    <tr>\n",
       "      <th>3</th>\n",
       "      <td>879983</td>\n",
       "      <td>R500</td>\n",
       "      <td>Rig404</td>\n",
       "      <td>JessB</td>\n",
       "      <td>0 days 09:05:23</td>\n",
       "      <td>0 days 09:51:26</td>\n",
       "      <td>2022-07-22</td>\n",
       "      <td>5</td>\n",
       "      <td>JB_cpoke_nofix ;                              ...</td>\n",
       "      <td></td>\n",
       "      <td>...</td>\n",
       "      <td>0.0</td>\n",
       "      <td>0</td>\n",
       "      <td>[[[[[0. 0. 0. 1. 1.]], [[1. 1. 1. 0. 0.]], ['r...</td>\n",
       "      <td>78</td>\n",
       "      <td>224</td>\n",
       "      <td>110</td>\n",
       "      <td></td>\n",
       "      <td>128.112.222.46</td>\n",
       "      <td>None</td>\n",
       "      <td>0</td>\n",
       "    </tr>\n",
       "    <tr>\n",
       "      <th>4</th>\n",
       "      <td>880131</td>\n",
       "      <td>R500</td>\n",
       "      <td>Rig404</td>\n",
       "      <td>JessB</td>\n",
       "      <td>0 days 09:24:37</td>\n",
       "      <td>0 days 10:10:42</td>\n",
       "      <td>2022-07-23</td>\n",
       "      <td>6</td>\n",
       "      <td>JB_cpoke_nofix ;                              ...</td>\n",
       "      <td></td>\n",
       "      <td>...</td>\n",
       "      <td>0.0</td>\n",
       "      <td>0</td>\n",
       "      <td>[[[[[1. 1. 0. 1. 1. 0.]], [[0. 0. 1. 0. 0. 1.]...</td>\n",
       "      <td>98</td>\n",
       "      <td>48</td>\n",
       "      <td>96</td>\n",
       "      <td></td>\n",
       "      <td>128.112.222.46</td>\n",
       "      <td>None</td>\n",
       "      <td>0</td>\n",
       "    </tr>\n",
       "  </tbody>\n",
       "</table>\n",
       "<p>5 rows × 29 columns</p>\n",
       "</div>"
      ],
      "text/plain": [
       "   sessid ratname hostname experimenter       starttime         endtime  \\\n",
       "0  879474    R500   Rig404         Jess 0 days 10:49:46 0 days 11:57:01   \n",
       "1  879662    R500   Rig404        JessB 0 days 11:38:31 0 days 12:27:40   \n",
       "2  879811    R500   Rig404        JessB 0 days 10:26:37 0 days 11:27:59   \n",
       "3  879983    R500   Rig404        JessB 0 days 09:05:23 0 days 09:51:26   \n",
       "4  880131    R500   Rig404        JessB 0 days 09:24:37 0 days 10:10:42   \n",
       "\n",
       "  sessiondate  n_done_trials  \\\n",
       "0  2022-07-19             28   \n",
       "1  2022-07-20             53   \n",
       "2  2022-07-21             10   \n",
       "3  2022-07-22              5   \n",
       "4  2022-07-23              6   \n",
       "\n",
       "                                            comments settings_file  ...  \\\n",
       "0  JB_cpoke_nofix ;                              ...                ...   \n",
       "1  JB_cpoke_nofix ;                              ...                ...   \n",
       "2  JB_cpoke_nofix ;                              ...                ...   \n",
       "3  JB_cpoke_nofix ;                              ...                ...   \n",
       "4  JB_cpoke_nofix ;                              ...                ...   \n",
       "\n",
       "  percent_violations brokenbits  \\\n",
       "0                0.0          0   \n",
       "1                0.0          0   \n",
       "2                0.0          0   \n",
       "3                0.0          0   \n",
       "4                0.0          0   \n",
       "\n",
       "                                       protocol_data left_pokes center_pokes  \\\n",
       "0  [[[[[0. 0. 1. 1. 0. 1. 0. 1. 0. 0. 0. 1. 0. 0....        520          612   \n",
       "1  [[[[[1. 1. 1. 1. 1. 1. 1. 1. 1. 1. 1. 1. 1. 1....        158          196   \n",
       "2  [[[[[1. 1. 0. 0. 1. 1. 1. 1. 1. 0.]], [[0. 0. ...        124          308   \n",
       "3  [[[[[0. 0. 0. 1. 1.]], [[1. 1. 1. 0. 0.]], ['r...         78          224   \n",
       "4  [[[[[1. 1. 0. 1. 1. 0.]], [[0. 0. 1. 0. 0. 1.]...         98           48   \n",
       "\n",
       "  right_pokes  technotes         IP_addr  crashed  foodpuck  \n",
       "0         704             128.112.222.46     None         0  \n",
       "1         172             128.112.222.46     None         0  \n",
       "2         112             128.112.222.46     None         0  \n",
       "3         110             128.112.222.46     None         0  \n",
       "4          96             128.112.222.46     None         0  \n",
       "\n",
       "[5 rows x 29 columns]"
      ]
     },
     "execution_count": 13,
     "metadata": {},
     "output_type": "execute_result"
    }
   ],
   "source": [
    "key = {\"ratname\" : \"R500\"}\n",
    "r500_sessions = pd.DataFrame((bdata.Sessions & key).fetch(as_dict=True))\n",
    "r500_sessions.head()\n"
   ]
  },
  {
   "cell_type": "code",
   "execution_count": 14,
   "id": "e5a66357-7d28-4e01-8a26-01fe15a551c4",
   "metadata": {},
   "outputs": [
    {
     "name": "stdout",
     "output_type": "stream",
     "text": [
      "On 2022-07-26, 88 trials were done.\n"
     ]
    }
   ],
   "source": [
    "session_number = 7\n",
    "print(f\"On {r500_sessions['sessiondate'][session_number]}, {r500_sessions['n_done_trials'][session_number]} trials were done.\")"
   ]
  },
  {
   "cell_type": "markdown",
   "id": "c6411b3c-9322-4b2b-8b52-bd0ce7ba2f76",
   "metadata": {},
   "source": [
    "Lastly, lets grab all the sessions for **multiple** animals. This requires using list comprehension to make a set of `keys`.\n"
   ]
  },
  {
   "cell_type": "code",
   "execution_count": 15,
   "id": "56c6a7c9-c3cd-441a-89f0-eef13ed32fdb",
   "metadata": {},
   "outputs": [
    {
     "name": "stdout",
     "output_type": "stream",
     "text": [
      "Animal names: ['R500' 'R501' 'R502']\n"
     ]
    }
   ],
   "source": [
    "animals = ['R500', 'R501', 'R502']\n",
    "keys = [{'ratname' : animal} for animal in animals]\n",
    "\n",
    "multi_animal_sessions = pd.DataFrame((bdata.Sessions & keys).fetch(as_dict=True))\n",
    "\n",
    "print(f\"Animal names: {multi_animal_sessions.ratname.unique()}\")"
   ]
  },
  {
   "cell_type": "markdown",
   "id": "3000c146-3b86-4a60-b210-33edeeea83e1",
   "metadata": {},
   "source": [
    "#### 4.2 Logical Queries\n",
    "\n",
    "Sometimes you might want to query information in a certain data range rather than a specific session or animal."
   ]
  },
  {
   "cell_type": "code",
   "execution_count": 16,
   "id": "854c1b10-60f0-445a-a3c3-2192a5d4e0b6",
   "metadata": {},
   "outputs": [
    {
     "name": "stdout",
     "output_type": "stream",
     "text": [
      "2125 weighing instances this month\n"
     ]
    }
   ],
   "source": [
    "february_mass_table = ratinfo.Mass & 'date > \"2023-02-01\"'\n",
    "print(f\"{len(february_mass_table)} weighing instances this month\")"
   ]
  },
  {
   "attachments": {},
   "cell_type": "markdown",
   "id": "45abcf70-8509-4acf-a3fb-e752376ccb49",
   "metadata": {},
   "source": [
    "You can also do ranges (using SQL syntax) and stack multiple keys."
   ]
  },
  {
   "cell_type": "code",
   "execution_count": 17,
   "id": "09a3bd8e-0a9a-479f-b48e-abd93dbdee47",
   "metadata": {},
   "outputs": [
    {
     "name": "stdout",
     "output_type": "stream",
     "text": [
      "JessB had 5 animals delivered in 2022\n"
     ]
    }
   ],
   "source": [
    "animal_count_2022 = ratinfo.Rats & 'deliverydate between \"2022-01-01\" and \"2022-12-31\"' & {'experimenter' : \"JessB\"}\n",
    "print(f\"JessB had {len(animal_count_2022)} animals delivered in 2022\")"
   ]
  },
  {
   "cell_type": "markdown",
   "id": "b31a0007-a2ef-4ca7-a7f5-ce524ee5a775",
   "metadata": {},
   "source": [
    "For additional advanced operations (column renaming, table merging, column creation, computations across tables) see Alvaro's [notebook](https://github.com/Brody-Lab/bl_pipeline_python/blob/main/notebooks/tutorials/1-Explore%20U19%20data%20pipeline%20with%20DataJoint.ipynb). Just note the schema names have changed since he wrote it"
   ]
  },
  {
   "cell_type": "markdown",
   "id": "080803cf-cc6e-4bdc-98d9-ba93a3467c0b",
   "metadata": {},
   "source": [
    "### 5 Exercise- Getting Water & Mass Data\n",
    "\n",
    "Something I do nearly every day is check how much water my animals get relative to their restriction volume and where that water came from (rig or pub). \n",
    "\n",
    "I've written some started code to calculate the restriction volume. To complete this, we need to determine how much water was drunk in the rig versus in the pub (and where that information is stored)."
   ]
  },
  {
   "cell_type": "code",
   "execution_count": 18,
   "id": "cdcde084-529f-40f8-ad41-26c7c5eb7a8c",
   "metadata": {},
   "outputs": [
    {
     "name": "stdout",
     "output_type": "stream",
     "text": [
      "Tables under ratinfo schema: \n",
      " ['CerebroSessions', 'Contacts', 'Eibs', 'Experiment', 'Infusions', 'Mass', 'PaOpto', 'Phys', 'RatHistory', 'Rats', 'RigMaintenance', 'Rigflush', 'Rigfood', 'Riginfo', 'Rigs', 'Rigtrials', 'Rigvideo', 'Rigwater', 'SchedRescue', 'Schedule', 'Stim', 'Surgery', 'TechSchedule', 'Technotes', 'TrainingRoom', 'TurnDownLog', 'VideoLog', 'Videoinfo', 'Water']\n"
     ]
    }
   ],
   "source": [
    "print(f\"Tables under ratinfo schema: \\n {ratinfo_table_names[:-6]}\")"
   ]
  },
  {
   "attachments": {},
   "cell_type": "markdown",
   "id": "cf22dddc-73a1-4026-ba72-462f95038811",
   "metadata": {},
   "source": [
    "#### 5.1 Restriction Target\n",
    "\n",
    "To calculate the restriction target, you need to locate the % of body weight restriction (in `ratinfo.Registry[comments]` or `ratinfo.Water[percent_target]`) and the mass of the animal (`ratinfo.Mass[mass]`) to calculate the volume. For more details look in `fetch_water.py`"
   ]
  },
  {
   "cell_type": "code",
   "execution_count": 39,
   "id": "6a865032-bbbc-4f70-8510-c46bbce19ea2",
   "metadata": {},
   "outputs": [
    {
     "name": "stdout",
     "output_type": "stream",
     "text": [
      "On 2023-02-15 R501 is restricted to:\n",
      "        4.0% of body weight or 0.95 mL\n",
      "        \n"
     ]
    }
   ],
   "source": [
    "ANIMAL_ID = \"R501\"\n",
    "DATE = \"2023-02-15\"\n",
    "\n",
    "volume_target = fetch_daily_water_target(animal_id=ANIMAL_ID, date=DATE, verbose=True)"
   ]
  },
  {
   "attachments": {},
   "cell_type": "markdown",
   "id": "e6ca8e04-e38b-47bf-9ba0-31d43edbbcd5",
   "metadata": {},
   "source": [
    "#### 5.2 Rig & Water Volumes\n",
    "\n",
    "The goal of this exercise will be to locate where the **pub** and **rig** volumes are stored in the database."
   ]
  },
  {
   "cell_type": "code",
   "execution_count": 41,
   "id": "40217cb3-0bfe-4ec4-9162-259173741c91",
   "metadata": {},
   "outputs": [],
   "source": [
    "Water_keys = {\"rat\" : ANIMAL_ID, \"date\" : DATE} # specific to Water table\n",
    "pub_volume = float((ratinfo.Water & Water_keys).fetch('volume').max())\n",
    "\n",
    "\n",
    "Rig_keys = {\"ratname\" : ANIMAL_ID, \"dateval\" : DATE} # Specific to Rigwater table\n",
    "rig_volume = float((ratinfo.Rigwater & Rig_keys).fetch1('totalvol'))\n"
   ]
  },
  {
   "attachments": {},
   "cell_type": "markdown",
   "id": "01082d71-959a-4d06-8e1f-46db0923d5d3",
   "metadata": {},
   "source": [
    "#### 5.3 Visualize\n",
    "\n",
    "enter the `rig_volume` and `pub_volume` amounts into the function below to run it"
   ]
  },
  {
   "cell_type": "code",
   "execution_count": 42,
   "id": "954389b0",
   "metadata": {},
   "outputs": [
    {
     "data": {
      "image/png": "[encoded data removed]",
      "text/plain": [
       "<Figure size 300x400 with 1 Axes>"
      ]
     },
     "metadata": {},
     "output_type": "display_data"
    }
   ],
   "source": [
    "plot_daily_water(volume_target, rig_volume, pub_volume, ANIMAL_ID, DATE)"
   ]
  }
 ],
 "metadata": {
  "kernelspec": {
   "display_name": "bl_test6",
   "language": "python",
   "name": "bl_test6"
  },
  "language_info": {
   "codemirror_mode": {
    "name": "ipython",
    "version": 3
   },
   "file_extension": ".py",
   "mimetype": "text/x-python",
   "name": "python",
   "nbconvert_exporter": "python",
   "pygments_lexer": "ipython3",
   "version": "3.7.0"
  }
 },
 "nbformat": 4,
 "nbformat_minor": 5
}

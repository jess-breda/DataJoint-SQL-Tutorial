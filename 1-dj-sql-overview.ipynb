{
 "cells": [
  {
   "attachments": {},
   "cell_type": "markdown",
   "id": "4fdb8eca-980c-4de0-80dc-1e9e59b3d5c7",
   "metadata": {},
   "source": [
    "## 1- DataJoint & Bdata Overview\n",
    "\n",
    "Overview tutorial for interacting with Brody Lab DataJoint SQL-based database. This notebook assumes you have followed the installation steps [here](https://github.com/Brody-Lab/bl_pipeline_python).\n",
    "\n",
    "Written by Jess Breda February 2023"
   ]
  },
  {
   "cell_type": "markdown",
   "id": "c7da1462-27f5-4f79-9cff-e681eeee41c2",
   "metadata": {},
   "source": [
    "### 1. Libraries"
   ]
  },
  {
   "cell_type": "code",
   "execution_count": 3,
   "id": "0245f9e4-6894-4465-b16b-4e8fef90c4d0",
   "metadata": {},
   "outputs": [],
   "source": [
    "#imports"
   ]
  },
  {
   "cell_type": "code",
   "execution_count": 2,
   "id": "0e284026-1f22-407c-8c17-621607d85e28",
   "metadata": {},
   "outputs": [],
   "source": [
    "#check connection is working"
   ]
  },
  {
   "cell_type": "markdown",
   "id": "55ecb3aa-f939-4893-b4f1-cdaba8a193f6",
   "metadata": {},
   "source": [
    "### 2. What is on DataJoint?"
   ]
  },
  {
   "cell_type": "markdown",
   "id": "5568f859-cdc1-4d3a-9f19-55048cef0e5c",
   "metadata": {},
   "source": [
    "`Schemas` are groups of tables that are similar and the highest structure level.\n",
    "\n",
    "**Schemas > Tables > Columns > Entries**"
   ]
  },
  {
   "cell_type": "code",
   "execution_count": null,
   "id": "65254614-92d5-4aad-af6b-9bacf1a1186f",
   "metadata": {},
   "outputs": [],
   "source": []
  },
  {
   "attachments": {},
   "cell_type": "markdown",
   "id": "98f65bda-72ee-4a14-a2bb-f16041fcea08",
   "metadata": {},
   "source": [
    "To read from the tables you will create a `virtual module`. This is the *whole* basis of DataJoint- connecting you from your interpreter (python, matlab etc) to your SQL database"
   ]
  },
  {
   "cell_type": "code",
   "execution_count": 8,
   "id": "d6100bea-8e2c-4b11-ab96-beca450c7602",
   "metadata": {},
   "outputs": [],
   "source": [
    "# __name__ =                    (__name__, schema name)\n"
   ]
  },
  {
   "attachments": {},
   "cell_type": "markdown",
   "id": "764ce526-0186-4268-b3fe-7d0ac1902491",
   "metadata": {},
   "source": [
    "There are nice visual ways to demonstrate relationships of tables in a `schema`, but sadly this code doesn't seem compatible with our dbs currently. Instead, let's list all the tables in each `schema`. Many will seem familiar from the old Zut webpage. "
   ]
  },
  {
   "cell_type": "code",
   "execution_count": 1,
   "id": "73875c95-00bc-427f-8fc2-69e32fbebb76",
   "metadata": {},
   "outputs": [],
   "source": [
    "## bdata_table_names = \n",
    "\n",
    "# print(f\"Tables under bdata schema: \\n {bdata_table_names[:-6]}\") # removing the __vars__"
   ]
  },
  {
   "cell_type": "code",
   "execution_count": 4,
   "id": "335469b9-c65b-42b7-a234-9fc0c6223a46",
   "metadata": {},
   "outputs": [],
   "source": [
    "# ratinfo_table_names = \n",
    "# print(f\"Tables under ratinfo schema: \\n {ratinfo_table_names[:-6]}\")"
   ]
  },
  {
   "cell_type": "markdown",
   "id": "4b88e955-743a-4828-8f37-33043d0047fc",
   "metadata": {},
   "source": [
    "### 3. Descriptive information for a table"
   ]
  },
  {
   "cell_type": "markdown",
   "id": "014139cc-feaf-4583-9069-0a17bfef701b",
   "metadata": {},
   "source": [
    "Let's look at the descriptions (i.e. columns) for the [sessions table](https://zut-bdata00.pni.princeton.edu/sessions.php)."
   ]
  },
  {
   "cell_type": "code",
   "execution_count": null,
   "id": "88940ee9-d29a-46fa-9247-cc912d6ad4b6",
   "metadata": {},
   "outputs": [],
   "source": []
  },
  {
   "cell_type": "markdown",
   "id": "782dd36f-1f0a-461d-9465-871587682aaa",
   "metadata": {},
   "source": [
    "Let's see what the data actually looks like in the table by making a query to a specific table."
   ]
  },
  {
   "cell_type": "code",
   "execution_count": 5,
   "id": "13665e9f-92aa-4e2b-bb1a-3b27bd1f0972",
   "metadata": {},
   "outputs": [],
   "source": [
    "# query sessions"
   ]
  },
  {
   "attachments": {},
   "cell_type": "markdown",
   "id": "f54d6803-5960-4dad-ac02-f7dd7f048bb6",
   "metadata": {},
   "source": [
    "Great, we can access all the Session information. Some tables have even more descriptive information like the [Registry](https://zut-bdata00.pni.princeton.edu/rats.php) (which is stored under `Rats`)"
   ]
  },
  {
   "cell_type": "code",
   "execution_count": null,
   "id": "908843cb-f075-4ba3-9ef1-cc97552e0f91",
   "metadata": {},
   "outputs": [],
   "source": []
  },
  {
   "attachments": {},
   "cell_type": "markdown",
   "id": "632ece71-9ae9-4038-a348-dac69a8991db",
   "metadata": {},
   "source": [
    "We can even `fetch` a single columns. For example all of the experimenters that have had a rat registered to them."
   ]
  },
  {
   "cell_type": "code",
   "execution_count": 6,
   "id": "2105576e-0a85-4676-9783-9ad8cf8ee31b",
   "metadata": {},
   "outputs": [],
   "source": [
    "# experimenters = \n",
    "\n",
    "# print(f\"All Animal Experimenters: \\n {np.unique(experimenters)}\")"
   ]
  },
  {
   "attachments": {},
   "cell_type": "markdown",
   "id": "905876a6-6f92-4a23-968c-1b18b458bc1b",
   "metadata": {},
   "source": [
    "### 4. Querying tables usings keys\n",
    "\n",
    "#### 4.1 Exact Queries\n",
    "What if you don't want the whole sessions table? There are multiple levels at which you can query a table using a `key`, which is a dictionary filter for a given column. \n",
    "\n",
    "Let's get data for a **single session** for one of my animals `R500`. Since we are only fetching 1 thing we will call `fetch1`. You could use just `fetch` but it will add additional dimensions that are hard to get rid of."
   ]
  },
  {
   "cell_type": "code",
   "execution_count": 7,
   "id": "3f13cc22-de4c-4864-bf25-81fa1b403f63",
   "metadata": {},
   "outputs": [],
   "source": [
    "session_id = '906302'\n",
    "# key = \n",
    "# r500_session = \n",
    "\n",
    "# r500_session.keys()"
   ]
  },
  {
   "attachments": {},
   "cell_type": "markdown",
   "id": "e023989b-70c8-48fe-b5f0-406be8f4b67d",
   "metadata": {},
   "source": [
    "In it's current form this returns a huge array. You can print it if you want but it's ugly. Instead, we can **format** our `fetch` into a `DataFrame` so it's more accessible. This is easiest to see when we fetch **all** the sessions for an animal."
   ]
  },
  {
   "cell_type": "code",
   "execution_count": 8,
   "id": "48122664-5d42-4b74-b468-abac07639af9",
   "metadata": {},
   "outputs": [],
   "source": [
    "# key = \n",
    "# r500_sessions = \n",
    "\n",
    "# r500_sessions.head()"
   ]
  },
  {
   "attachments": {},
   "cell_type": "markdown",
   "id": "7cee5b76",
   "metadata": {},
   "source": [
    "This is nice because you can easily index into the table to get session level information."
   ]
  },
  {
   "cell_type": "code",
   "execution_count": 9,
   "id": "e5a66357-7d28-4e01-8a26-01fe15a551c4",
   "metadata": {},
   "outputs": [],
   "source": [
    "# session_number = \n",
    "\n",
    "# print(f\"On {r500_sessions['sessiondate'][session_number]}, {r500_sessions['n_done_trials'][session_number]} trials were done.\")"
   ]
  },
  {
   "attachments": {},
   "cell_type": "markdown",
   "id": "c6411b3c-9322-4b2b-8b52-bd0ce7ba2f76",
   "metadata": {},
   "source": [
    "Finally, lets grab all the sessions for **multiple** animals. This requires using list comprehension to make a set of `keys`.\n"
   ]
  },
  {
   "cell_type": "code",
   "execution_count": 10,
   "id": "56c6a7c9-c3cd-441a-89f0-eef13ed32fdb",
   "metadata": {},
   "outputs": [],
   "source": [
    "# animals = \n",
    "# keys = \n",
    "\n",
    "# multi_animal_sessions = \n",
    "\n",
    "# print(f\"Animal names: {multi_animal_sessions.ratname.unique()}\")"
   ]
  },
  {
   "cell_type": "markdown",
   "id": "3000c146-3b86-4a60-b210-33edeeea83e1",
   "metadata": {},
   "source": [
    "#### 4.2 Logical Queries\n",
    "\n",
    "Sometimes you might want to query information in a certain data range rather than a specific session or animal."
   ]
  },
  {
   "cell_type": "code",
   "execution_count": 11,
   "id": "854c1b10-60f0-445a-a3c3-2192a5d4e0b6",
   "metadata": {},
   "outputs": [],
   "source": [
    "# february_mass_table = \n",
    "\n",
    "# print(f\"{len(february_mass_table)} weighing instances this month\")"
   ]
  },
  {
   "attachments": {},
   "cell_type": "markdown",
   "id": "45abcf70-8509-4acf-a3fb-e752376ccb49",
   "metadata": {},
   "source": [
    "You can also do ranges (using SQL syntax) and stack multiple keys."
   ]
  },
  {
   "cell_type": "code",
   "execution_count": 13,
   "id": "09a3bd8e-0a9a-479f-b48e-abd93dbdee47",
   "metadata": {},
   "outputs": [],
   "source": [
    "# animal_count_2022 = \n",
    "\n",
    "# print(f\"JessB had {len(animal_count_2022)} animals delivered in 2022\")"
   ]
  },
  {
   "attachments": {},
   "cell_type": "markdown",
   "id": "b31a0007-a2ef-4ca7-a7f5-ce524ee5a775",
   "metadata": {},
   "source": [
    "For additional advanced operations (column renaming, table merging, column creation, computations across tables) see Alvaro's [notebook](https://github.com/Brody-Lab/bl_pipeline_python/blob/main/notebooks/tutorials/1-Explore%20U19%20data%20pipeline%20with%20DataJoint.ipynb). Just note the schema names have changed since he wrote it."
   ]
  },
  {
   "cell_type": "markdown",
   "id": "080803cf-cc6e-4bdc-98d9-ba93a3467c0b",
   "metadata": {},
   "source": [
    "### 5 Exercise- Getting Water & Mass Data\n",
    "\n",
    "Something I do nearly every day is check how much water my animals get relative to their restriction volume and where that water came from (rig or pub). \n",
    "\n",
    "I've written some started code to calculate the restriction volume. To complete this, we need to determine how much water was drunk in the rig versus in the pub (and where that information is stored)."
   ]
  },
  {
   "attachments": {},
   "cell_type": "markdown",
   "id": "cf22dddc-73a1-4026-ba72-462f95038811",
   "metadata": {},
   "source": [
    "#### 5.1 Restriction Target\n",
    "\n",
    "To calculate the restriction target, you need to locate the % of body weight restriction (in `ratinfo.Registry[comments]` or `ratinfo.Water[percent_target]`) and the mass of the animal (`ratinfo.Mass[mass]`) to calculate the volume. \n",
    "\n",
    "For more details look in `fetch_water.py`"
   ]
  },
  {
   "cell_type": "code",
   "execution_count": 15,
   "id": "6a865032-bbbc-4f70-8510-c46bbce19ea2",
   "metadata": {},
   "outputs": [],
   "source": [
    "ANIMAL_ID = \"R501\"\n",
    "DATE = \"2023-02-15\"\n",
    "\n",
    "volume_target = fetch_daily_water_target(animal_id=ANIMAL_ID, date=DATE, verbose=True)"
   ]
  },
  {
   "attachments": {},
   "cell_type": "markdown",
   "id": "e6ca8e04-e38b-47bf-9ba0-31d43edbbcd5",
   "metadata": {},
   "source": [
    "#### 5.2 Rig & Water Volumes\n",
    "\n",
    "The goal of this exercise will be to locate where the **pub** and **rig** volumes are stored in the database."
   ]
  },
  {
   "cell_type": "code",
   "execution_count": 18,
   "id": "446db883",
   "metadata": {},
   "outputs": [],
   "source": [
    "# which tables?"
   ]
  },
  {
   "cell_type": "code",
   "execution_count": 16,
   "id": "40217cb3-0bfe-4ec4-9162-259173741c91",
   "metadata": {},
   "outputs": [],
   "source": [
    "# pub_keys = ### FILL IN ###\n",
    "# pub_volume = ### FILL IN ###"
   ]
  },
  {
   "cell_type": "code",
   "execution_count": 17,
   "id": "be75eade",
   "metadata": {},
   "outputs": [],
   "source": [
    "# rig_keys = ### FILL IN ###\n",
    "# rig_volume = ### FILL IN ###"
   ]
  },
  {
   "attachments": {},
   "cell_type": "markdown",
   "id": "01082d71-959a-4d06-8e1f-46db0923d5d3",
   "metadata": {},
   "source": [
    "#### 5.3 Visualize\n",
    "\n",
    "enter the `rig_volume` and `pub_volume` amounts into the function below to run it"
   ]
  },
  {
   "cell_type": "code",
   "execution_count": 19,
   "id": "954389b0",
   "metadata": {},
   "outputs": [],
   "source": [
    "### UNCOMMENT & RUN ###\n",
    "# plot_daily_water(volume_target, rig_volume, pub_volume, ANIMAL_ID, DATE)"
   ]
  }
 ],
 "metadata": {
  "kernelspec": {
   "display_name": "bl_test6",
   "language": "python",
   "name": "bl_test6"
  },
  "language_info": {
   "codemirror_mode": {
    "name": "ipython",
    "version": 3
   },
   "file_extension": ".py",
   "mimetype": "text/x-python",
   "name": "python",
   "nbconvert_exporter": "python",
   "pygments_lexer": "ipython3",
   "version": "3.7.0"
  }
 },
 "nbformat": 4,
 "nbformat_minor": 5
}

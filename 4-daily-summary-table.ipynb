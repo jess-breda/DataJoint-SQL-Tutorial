{
 "cells": [
  {
   "attachments": {},
   "cell_type": "markdown",
   "metadata": {},
   "source": [
    "## 4- Daily Summary Table\n",
    "\n",
    "How to import the daily summary table & demonstrations of what information it has. Slides explaining motivation located [here](https://docs.google.com/presentation/d/1Z_Q5WOAo14Pu6IyJc0vErCub9KArtuX0fUCAMdcbe-A/edit?usp=sharing).\n",
    "\n",
    "Written by Jess Breda May 2023"
   ]
  },
  {
   "attachments": {},
   "cell_type": "markdown",
   "metadata": {},
   "source": [
    "### 1.1 Libraries"
   ]
  },
  {
   "cell_type": "code",
   "execution_count": null,
   "metadata": {},
   "outputs": [],
   "source": [
    "from create_summary_table import create_daily_summary_from_dj, lazy_load_daily_summary_df\n",
    "from plot_summary_table import *\n",
    "\n",
    "import seaborn as sns\n",
    "import matplotlib.pyplot as plt\n",
    "\n",
    "# settings\n",
    "%load_ext autoreload\n",
    "%autoreload 2\n",
    "\n",
    "sns.set_context(\"talk\")"
   ]
  },
  {
   "attachments": {},
   "cell_type": "markdown",
   "metadata": {},
   "source": [
    "### 1.2 Assumptions\n",
    "\n",
    "1. This code will grab info for any date when the animal had an entry in the `Sessions` table or the `Mass` table.\n",
    "\n",
    "2. It is pulling the restriction volume from the `Water` table. This volume only gets entered if pub is run that day. If there is no entry, it defaults to 4% for mice and 3% for rats. To know when this is happening set `Verbose` to `True`.\n",
    "\n",
    "3. If `AdlibGUI` is not turned on for the animal `Waptor ON`, there will be no rig volume in the RigWater table and it will default to 0. To know when this is happening set `Verbose` to `True`.\n",
    "\n",
    "4. In rare cases, an animal will have an entry in the Sessions table, but not the `Mass` table. If this happens, the code will grab the weight from 1 day previous. To know when this is happening set `Verbose` to `True`."
   ]
  },
  {
   "attachments": {},
   "cell_type": "markdown",
   "metadata": {},
   "source": [
    "### 2. Fetch for a single animal\n",
    "\n",
    "Create the daily summary dataframe using the `fetch_daily_summary_info` function. If you have the datajoint environment set up (see README), this should run for any animal(s). "
   ]
  },
  {
   "cell_type": "code",
   "execution_count": null,
   "metadata": {},
   "outputs": [],
   "source": [
    "ANIMAL_ID = [\"A325\"]\n",
    "\n",
    "\n",
    "animal_df = create_daily_summary_from_dj(\n",
    "    animal_ids=ANIMAL_ID, \n",
    "    date_min=\"2023-05-07\", \n",
    "    date_max=\"2023-05-25\",\n",
    "    verbose=False,\n",
    ")"
   ]
  },
  {
   "cell_type": "code",
   "execution_count": null,
   "metadata": {},
   "outputs": [],
   "source": [
    "animal_df.info()"
   ]
  },
  {
   "cell_type": "code",
   "execution_count": null,
   "metadata": {},
   "outputs": [],
   "source": [
    "animal_df.head()"
   ]
  },
  {
   "attachments": {},
   "cell_type": "markdown",
   "metadata": {},
   "source": [
    "### 3. Visualize\n",
    "\n",
    "Examples of how to use plotting functions with the daily summary dataframe of a single animal"
   ]
  },
  {
   "cell_type": "code",
   "execution_count": null,
   "metadata": {},
   "outputs": [],
   "source": [
    "# Plot number of done trials and rate of trials/hr over dates\n",
    "\n",
    "fig,ax = make_fig() # helper function\n",
    "plot_trials(animal_df, ax, title= ANIMAL_ID[0], legend=True)\n"
   ]
  },
  {
   "cell_type": "code",
   "execution_count": null,
   "metadata": {},
   "outputs": [],
   "source": [
    "# Plot mass over dates\n",
    "\n",
    "fig,ax = make_fig()\n",
    "plot_mass(animal_df, ax, title=ANIMAL_ID[0])\n"
   ]
  },
  {
   "cell_type": "code",
   "execution_count": null,
   "metadata": {},
   "outputs": [],
   "source": [
    "# Plot water restriction over dates\n",
    "\n",
    "fig,ax = make_fig()\n",
    "plot_water_restriction(animal_df, ax, title=ANIMAL_ID[0], legend=False)"
   ]
  },
  {
   "cell_type": "code",
   "execution_count": null,
   "metadata": {},
   "outputs": [],
   "source": [
    "# Plot rig / tech over dates\n",
    "\n",
    "fig,ax = make_fig()\n",
    "plot_rig_tech(animal_df, ax, title=ANIMAL_ID[0])\n"
   ]
  },
  {
   "attachments": {},
   "cell_type": "markdown",
   "metadata": {},
   "source": [
    "### 4. Extensions\n",
    "\n",
    "#### 4.1 Multi-plot summary\n",
    "\n",
    "Here's an example of how to easily make a subplot for an animal using `subplot_mosiac`"
   ]
  },
  {
   "cell_type": "code",
   "execution_count": null,
   "metadata": {},
   "outputs": [],
   "source": [
    "\n",
    "## Initialize mutli-axis figure\n",
    "layout = \"\"\"\n",
    "    AAABBB\n",
    "    CCCDDD\n",
    "    EEEFFF\n",
    "\"\"\"\n",
    "fig = plt.figure(constrained_layout=True, figsize=(15,8))\n",
    "ax_dict = fig.subplot_mosaic(layout)  # ax to plot to\n",
    "plt.suptitle(f\"\\n{ANIMAL_ID[0]} Daily Summary Plot\", fontweight=\"semibold\")\n",
    "\n",
    "\n",
    "## Plot\n",
    "# left column\n",
    "plot_trials(animal_df, ax_dict[\"A\"], title=\"Trials\", legend=True, xaxis_label=False)\n",
    "plot_performance(animal_df, ax_dict[\"C\"], title=\"Performance\", xaxis_label=False)\n",
    "plot_side_bias(animal_df, ax_dict[\"E\"], title=\"Side Bias\", xaxis_label=True)\n",
    "\n",
    "# right column\n",
    "plot_mass(animal_df, ax_dict[\"B\"], title=\"Mass\", xaxis_label=False)\n",
    "plot_water_restriction(animal_df, ax_dict[\"D\"], title=\"Water\", legend=False, xaxis_label=False)\n",
    "plot_rig_tech(animal_df, ax_dict[\"F\"], title=\"Rig/Tech\", xaxis_label=True)\n"
   ]
  },
  {
   "attachments": {},
   "cell_type": "markdown",
   "metadata": {},
   "source": [
    "#### 4.2 Date window generator"
   ]
  },
  {
   "attachments": {},
   "cell_type": "markdown",
   "metadata": {},
   "source": [
    "This is handy helper function for generating date windows. For example, I commonly search for 7 days back from the current date. Then, you can only query this date range in datajoint."
   ]
  },
  {
   "cell_type": "code",
   "execution_count": null,
   "metadata": {},
   "outputs": [],
   "source": [
    "date_min, date_max = return_date_window(latest_date=None, n_days_back=7)\n",
    "print(f\"date min = {date_min}, date max = {date_max}\")"
   ]
  },
  {
   "cell_type": "code",
   "execution_count": null,
   "metadata": {},
   "outputs": [],
   "source": [
    "dw_df = create_daily_summary_from_dj(animal_ids=ANIMAL_ID, date_min=date_min, date_max=date_max)\n",
    "dw_df.head()"
   ]
  },
  {
   "cell_type": "code",
   "execution_count": null,
   "metadata": {},
   "outputs": [],
   "source": [
    "print(\n",
    "    f\"query min: {date_min} returned min: {dw_df.date.min()},\" \n",
    "    f\"\\nquery max: {date_max} returned_max: {dw_df.date.max()}\"\n",
    ")"
   ]
  },
  {
   "attachments": {},
   "cell_type": "markdown",
   "metadata": {},
   "source": [
    "#### 4.3 Multiple animals\n",
    "\n",
    "The code allows you to fetch multiple animals at a time by passing in a list. You can then use `groupby` functions for plotting"
   ]
  },
  {
   "cell_type": "code",
   "execution_count": null,
   "metadata": {},
   "outputs": [],
   "source": [
    "# Load in \n",
    "\n",
    "MULTIANIMAL_IDS = [\"R610\", \"Y510\"]\n",
    "\n",
    "mutlianimal_df = create_daily_summary_from_dj(\n",
    "    animal_ids=MULTIANIMAL_IDS,\n",
    "    date_min=\"2023-05-15\", \n",
    "    date_max=\"2023-05-22\",\n",
    "    verbose=False)"
   ]
  },
  {
   "cell_type": "code",
   "execution_count": null,
   "metadata": {},
   "outputs": [],
   "source": [
    "# Check that mutlianimal load in worked\n",
    "mutlianimal_df.animal_id.unique()"
   ]
  },
  {
   "cell_type": "code",
   "execution_count": null,
   "metadata": {},
   "outputs": [],
   "source": [
    "# Plot average trial rate per animal\n",
    "\n",
    "fig,ax=make_fig((3,3))\n",
    "mutlianimal_df.groupby(\n",
    "    [\"animal_id\"]\n",
    "    ).trial_rate.mean().plot(\n",
    "    kind=\"bar\", title=\"Mean trial rate\"\n",
    "    )"
   ]
  },
  {
   "cell_type": "code",
   "execution_count": null,
   "metadata": {},
   "outputs": [],
   "source": [
    "## Plot mass over time conditioned on animal id\n",
    "\n",
    "fig,ax = plt.subplots(1,1, figsize=(10,3))\n",
    "\n",
    "sns.lineplot(data=mutlianimal_df, x=\"date\", y=\"mass\", hue=\"animal_id\", marker=\"o\", ax=ax)\n",
    "\n",
    "set_date_x_ticks(ax,xaxis_label=True)\n",
    "ax.grid()"
   ]
  },
  {
   "cell_type": "code",
   "execution_count": null,
   "metadata": {},
   "outputs": [],
   "source": [
    "# Plot water restriction over time conditioned on animal id\n",
    "\n",
    "fig,ax = plt.subplots(2,1, figsize=(10,6), sharex=True)\n",
    "\n",
    "for ii, (animal_id, sub_df) in enumerate(mutlianimal_df.groupby(\"animal_id\")):\n",
    "    plot_water_restriction(sub_df, ax[ii], title=animal_id, legend=False, xaxis_label=True)\n"
   ]
  },
  {
   "attachments": {},
   "cell_type": "markdown",
   "metadata": {},
   "source": [
    "#### 4.4 Overwrite checks\n",
    "\n",
    "Making the summary data frame is time consuming. To avoid this you can do a \"lazy load\" and only read in the new dates from bdata and merge this with a dataframe containing the previous dates.\n",
    "\n",
    "This functionality is implemented with the `overwrite`, `save_out` and `save_path` variables."
   ]
  },
  {
   "cell_type": "code",
   "execution_count": null,
   "metadata": {},
   "outputs": [],
   "source": [
    "lazy_date_min = \"2023-04-06\"\n",
    "lazy_date_max = \"2023-05-27\"\n",
    "\n",
    "lazy_load_ids = [\"R610\", \"R611\", \"R612\", \"R613\", \"R614\"]\n",
    "\n",
    "df = lazy_load_daily_summary_df(\n",
    "    animal_ids=lazy_load_ids, \n",
    "    date_min=lazy_date_min, \n",
    "    date_max=lazy_date_max, \n",
    "    save_out=True\n",
    ")\n"
   ]
  },
  {
   "cell_type": "code",
   "execution_count": null,
   "metadata": {},
   "outputs": [],
   "source": [
    "print(f\"query min: {lazy_date_min} returned min: {df.date.min()},\"\n",
    "      f\"\\nquery max: {lazy_date_max} returned_max: {df.date.max()}\")\n"
   ]
  },
  {
   "cell_type": "code",
   "execution_count": null,
   "metadata": {},
   "outputs": [],
   "source": [
    "df"
   ]
  }
 ],
 "metadata": {
  "kernelspec": {
   "display_name": "bl_dj_310",
   "language": "python",
   "name": "python3"
  },
  "language_info": {
   "codemirror_mode": {
    "name": "ipython",
    "version": 3
   },
   "file_extension": ".py",
   "mimetype": "text/x-python",
   "name": "python",
   "nbconvert_exporter": "python",
   "pygments_lexer": "ipython3",
   "version": "3.10.0"
  },
  "orig_nbformat": 4
 },
 "nbformat": 4,
 "nbformat_minor": 2
}

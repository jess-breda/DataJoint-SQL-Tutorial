{
 "cells": [
  {
   "attachments": {},
   "cell_type": "markdown",
   "metadata": {},
   "source": [
    "## 4- Daily Summary Table\n",
    "\n",
    "How to import the daily summary table & demonstrations of what information it has.\n",
    "\n",
    "Written by Jess Breda May 2023"
   ]
  },
  {
   "attachments": {},
   "cell_type": "markdown",
   "metadata": {},
   "source": [
    "### 1. Libraries"
   ]
  },
  {
   "cell_type": "code",
   "execution_count": 46,
   "metadata": {},
   "outputs": [],
   "source": [
    "from create_summary_table import fetch_daily_summary_info\n",
    "\n",
    "import seaborn as sns\n",
    "import matplotlib.pyplot as plt"
   ]
  },
  {
   "attachments": {},
   "cell_type": "markdown",
   "metadata": {},
   "source": [
    "### 2. Fetch for a single animal"
   ]
  },
  {
   "cell_type": "code",
   "execution_count": 7,
   "metadata": {},
   "outputs": [
    {
     "name": "stdout",
     "output_type": "stream",
     "text": [
      "fetched 12 daily summaries for R610 between 2023-05-15 and 2023-05-26\n"
     ]
    }
   ],
   "source": [
    "ANIMAL_ID = [\"R610\"]\n",
    "\n",
    "r610_df = fetch_daily_summary_info(animal_ids=ANIMAL_ID, date_min=\"2023-05-15\")"
   ]
  },
  {
   "cell_type": "code",
   "execution_count": 8,
   "metadata": {},
   "outputs": [
    {
     "name": "stdout",
     "output_type": "stream",
     "text": [
      "<class 'pandas.core.frame.DataFrame'>\n",
      "RangeIndex: 12 entries, 0 to 11\n",
      "Data columns (total 15 columns):\n",
      " #   Column          Non-Null Count  Dtype  \n",
      "---  ------          --------------  -----  \n",
      " 0   animal_id       12 non-null     object \n",
      " 1   date            12 non-null     object \n",
      " 2   rigid           12 non-null     object \n",
      " 3   n_done_trials   12 non-null     int64  \n",
      " 4   n_sessions      12 non-null     int64  \n",
      " 5   start_time      12 non-null     object \n",
      " 6   train_dur_hrs   12 non-null     float64\n",
      " 7   trial_rate      12 non-null     float64\n",
      " 8   mass            12 non-null     float64\n",
      " 9   tech            12 non-null     object \n",
      " 10  percent_target  12 non-null     float64\n",
      " 11  pub_volume      12 non-null     float64\n",
      " 12  rig_volume      12 non-null     float64\n",
      " 13  volume_target   12 non-null     float64\n",
      " 14  water_diff      12 non-null     float64\n",
      "dtypes: float64(8), int64(2), object(5)\n",
      "memory usage: 1.5+ KB\n"
     ]
    }
   ],
   "source": [
    "r610_df.info()"
   ]
  },
  {
   "cell_type": "code",
   "execution_count": 9,
   "metadata": {},
   "outputs": [
    {
     "data": {
      "text/html": [
       "<div>\n",
       "<style scoped>\n",
       "    .dataframe tbody tr th:only-of-type {\n",
       "        vertical-align: middle;\n",
       "    }\n",
       "\n",
       "    .dataframe tbody tr th {\n",
       "        vertical-align: top;\n",
       "    }\n",
       "\n",
       "    .dataframe thead th {\n",
       "        text-align: right;\n",
       "    }\n",
       "</style>\n",
       "<table border=\"1\" class=\"dataframe\">\n",
       "  <thead>\n",
       "    <tr style=\"text-align: right;\">\n",
       "      <th></th>\n",
       "      <th>animal_id</th>\n",
       "      <th>date</th>\n",
       "      <th>rigid</th>\n",
       "      <th>n_done_trials</th>\n",
       "      <th>n_sessions</th>\n",
       "      <th>start_time</th>\n",
       "      <th>train_dur_hrs</th>\n",
       "      <th>trial_rate</th>\n",
       "      <th>mass</th>\n",
       "      <th>tech</th>\n",
       "      <th>percent_target</th>\n",
       "      <th>pub_volume</th>\n",
       "      <th>rig_volume</th>\n",
       "      <th>volume_target</th>\n",
       "      <th>water_diff</th>\n",
       "    </tr>\n",
       "  </thead>\n",
       "  <tbody>\n",
       "    <tr>\n",
       "      <th>0</th>\n",
       "      <td>R610</td>\n",
       "      <td>2023-05-15</td>\n",
       "      <td>Rig406</td>\n",
       "      <td>68</td>\n",
       "      <td>1</td>\n",
       "      <td>10:15:52</td>\n",
       "      <td>0.39</td>\n",
       "      <td>174.36</td>\n",
       "      <td>16.98</td>\n",
       "      <td>ER</td>\n",
       "      <td>4.0</td>\n",
       "      <td>0.624</td>\n",
       "      <td>0.066</td>\n",
       "      <td>0.68</td>\n",
       "      <td>0.010</td>\n",
       "    </tr>\n",
       "    <tr>\n",
       "      <th>1</th>\n",
       "      <td>R610</td>\n",
       "      <td>2023-05-16</td>\n",
       "      <td>Rig406</td>\n",
       "      <td>177</td>\n",
       "      <td>1</td>\n",
       "      <td>09:50:40</td>\n",
       "      <td>1.03</td>\n",
       "      <td>171.84</td>\n",
       "      <td>16.96</td>\n",
       "      <td>JL</td>\n",
       "      <td>4.0</td>\n",
       "      <td>0.447</td>\n",
       "      <td>0.234</td>\n",
       "      <td>0.68</td>\n",
       "      <td>0.001</td>\n",
       "    </tr>\n",
       "    <tr>\n",
       "      <th>2</th>\n",
       "      <td>R610</td>\n",
       "      <td>2023-05-17</td>\n",
       "      <td>Rig406</td>\n",
       "      <td>160</td>\n",
       "      <td>1</td>\n",
       "      <td>07:37:16</td>\n",
       "      <td>1.03</td>\n",
       "      <td>155.34</td>\n",
       "      <td>16.89</td>\n",
       "      <td>ER</td>\n",
       "      <td>4.0</td>\n",
       "      <td>0.000</td>\n",
       "      <td>1.600</td>\n",
       "      <td>0.68</td>\n",
       "      <td>0.920</td>\n",
       "    </tr>\n",
       "    <tr>\n",
       "      <th>3</th>\n",
       "      <td>R610</td>\n",
       "      <td>2023-05-18</td>\n",
       "      <td>Rig406</td>\n",
       "      <td>152</td>\n",
       "      <td>1</td>\n",
       "      <td>07:51:08</td>\n",
       "      <td>1.02</td>\n",
       "      <td>149.02</td>\n",
       "      <td>17.01</td>\n",
       "      <td>ER</td>\n",
       "      <td>4.0</td>\n",
       "      <td>0.000</td>\n",
       "      <td>1.500</td>\n",
       "      <td>0.68</td>\n",
       "      <td>0.820</td>\n",
       "    </tr>\n",
       "    <tr>\n",
       "      <th>4</th>\n",
       "      <td>R610</td>\n",
       "      <td>2023-05-19</td>\n",
       "      <td>Rig406</td>\n",
       "      <td>191</td>\n",
       "      <td>1</td>\n",
       "      <td>07:50:52</td>\n",
       "      <td>1.01</td>\n",
       "      <td>189.11</td>\n",
       "      <td>17.29</td>\n",
       "      <td>ER</td>\n",
       "      <td>4.0</td>\n",
       "      <td>0.285</td>\n",
       "      <td>0.412</td>\n",
       "      <td>0.69</td>\n",
       "      <td>0.007</td>\n",
       "    </tr>\n",
       "  </tbody>\n",
       "</table>\n",
       "</div>"
      ],
      "text/plain": [
       "  animal_id        date   rigid  n_done_trials  n_sessions start_time   \n",
       "0      R610  2023-05-15  Rig406             68           1   10:15:52  \\\n",
       "1      R610  2023-05-16  Rig406            177           1   09:50:40   \n",
       "2      R610  2023-05-17  Rig406            160           1   07:37:16   \n",
       "3      R610  2023-05-18  Rig406            152           1   07:51:08   \n",
       "4      R610  2023-05-19  Rig406            191           1   07:50:52   \n",
       "\n",
       "   train_dur_hrs  trial_rate   mass tech  percent_target  pub_volume   \n",
       "0           0.39      174.36  16.98   ER             4.0       0.624  \\\n",
       "1           1.03      171.84  16.96   JL             4.0       0.447   \n",
       "2           1.03      155.34  16.89   ER             4.0       0.000   \n",
       "3           1.02      149.02  17.01   ER             4.0       0.000   \n",
       "4           1.01      189.11  17.29   ER             4.0       0.285   \n",
       "\n",
       "   rig_volume  volume_target  water_diff  \n",
       "0       0.066           0.68       0.010  \n",
       "1       0.234           0.68       0.001  \n",
       "2       1.600           0.68       0.920  \n",
       "3       1.500           0.68       0.820  \n",
       "4       0.412           0.69       0.007  "
      ]
     },
     "execution_count": 9,
     "metadata": {},
     "output_type": "execute_result"
    }
   ],
   "source": [
    "r610_df.head()"
   ]
  },
  {
   "attachments": {},
   "cell_type": "markdown",
   "metadata": {},
   "source": [
    "### 3. Visualize"
   ]
  },
  {
   "cell_type": "code",
   "execution_count": 10,
   "metadata": {},
   "outputs": [],
   "source": [
    "# n done trials & rate"
   ]
  },
  {
   "cell_type": "code",
   "execution_count": 11,
   "metadata": {},
   "outputs": [],
   "source": [
    "# mass"
   ]
  },
  {
   "cell_type": "code",
   "execution_count": 12,
   "metadata": {},
   "outputs": [],
   "source": [
    "# water & pub"
   ]
  },
  {
   "cell_type": "code",
   "execution_count": 13,
   "metadata": {},
   "outputs": [],
   "source": [
    "# tech / rig"
   ]
  },
  {
   "attachments": {},
   "cell_type": "markdown",
   "metadata": {},
   "source": [
    "### 4. Extensions\n",
    "\n",
    "#### 4.1 Mega subplot"
   ]
  },
  {
   "attachments": {},
   "cell_type": "markdown",
   "metadata": {},
   "source": [
    "#### 4.2 Multiple animals"
   ]
  },
  {
   "cell_type": "code",
   "execution_count": 15,
   "metadata": {},
   "outputs": [
    {
     "name": "stdout",
     "output_type": "stream",
     "text": [
      "fetched 12 daily summaries for R610 between 2023-05-15 and 2023-05-26\n",
      "rig volume wasn't tracked on 2023-05-19, defaulting to 0 mL\n",
      "fetched 11 daily summaries for W600 between 2023-05-15 and 2023-05-26\n"
     ]
    }
   ],
   "source": [
    "MULTIANIMAL_IDS = [\"R610\", \"W600\"]\n",
    "mutlianimal_df = fetch_daily_summary_info(animal_ids=MULTIANIMAL_IDS, date_min=\"2023-05-15\")"
   ]
  },
  {
   "cell_type": "code",
   "execution_count": 17,
   "metadata": {},
   "outputs": [
    {
     "data": {
      "text/plain": [
       "array(['R610', 'W600'], dtype=object)"
      ]
     },
     "execution_count": 17,
     "metadata": {},
     "output_type": "execute_result"
    }
   ],
   "source": [
    "mutlianimal_df.animal_id.unique()"
   ]
  },
  {
   "cell_type": "code",
   "execution_count": 39,
   "metadata": {},
   "outputs": [
    {
     "data": {
      "text/plain": [
       "animal_id\n",
       "R610    175.640833\n",
       "W600    321.472727\n",
       "Name: trial_rate, dtype: float64"
      ]
     },
     "execution_count": 39,
     "metadata": {},
     "output_type": "execute_result"
    }
   ],
   "source": [
    "mutlianimal_df.groupby([\"animal_id\"]).trial_rate.mean()"
   ]
  },
  {
   "cell_type": "code",
   "execution_count": 62,
   "metadata": {},
   "outputs": [
    {
     "name": "stderr",
     "output_type": "stream",
     "text": [
      "C:\\Users\\JB\\AppData\\Local\\Temp\\ipykernel_293740\\2240203123.py:6: UserWarning: FixedFormatter should only be used together with FixedLocator\n",
      "  _ = ax.set_xticklabels(ax.get_xticklabels(), rotation=45)\n"
     ]
    },
    {
     "data": {
      "image/png": "[encoded data removed]",
      "text/plain": [
       "<Figure size 1000x300 with 1 Axes>"
      ]
     },
     "metadata": {},
     "output_type": "display_data"
    }
   ],
   "source": [
    "fig,ax = plt.subplots(1,1, figsize=(10,3))\n",
    "\n",
    "sns.lineplot(data =mutlianimal_df, x=\"date\", y=\"mass\", hue=\"animal_id\", marker=\"o\", ax=ax)\n",
    "\n",
    "ax.grid()\n",
    "_ = ax.set_xticklabels(ax.get_xticklabels(), rotation=45)\n",
    "\n"
   ]
  },
  {
   "attachments": {},
   "cell_type": "markdown",
   "metadata": {},
   "source": [
    "#### 4.3 Date window generator"
   ]
  },
  {
   "attachments": {},
   "cell_type": "markdown",
   "metadata": {},
   "source": [
    "#### 4.4 Overwrite checks"
   ]
  }
 ],
 "metadata": {
  "kernelspec": {
   "display_name": "bl_dj_310",
   "language": "python",
   "name": "bl_dj_310"
  },
  "language_info": {
   "codemirror_mode": {
    "name": "ipython",
    "version": 3
   },
   "file_extension": ".py",
   "mimetype": "text/x-python",
   "name": "python",
   "nbconvert_exporter": "python",
   "pygments_lexer": "ipython3",
   "version": "3.10.0"
  },
  "orig_nbformat": 4
 },
 "nbformat": 4,
 "nbformat_minor": 2
}
